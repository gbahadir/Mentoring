{
 "cells": [
  {
   "cell_type": "markdown",
   "id": "97d2a08c",
   "metadata": {},
   "source": [
    "<a id=\"toc\"></a>\n",
    "\n",
    "## <p style=\"background-color:#0D8D99; font-family:newtimeroman; color:#FFF9ED; font-size:175%; text-align:center; border-radius:10px 10px;\">11 Python Exercises for Bootcamp Break</p>"
   ]
  },
  {
   "cell_type": "markdown",
   "id": "ce458967",
   "metadata": {},
   "source": [
    "**Task 1: Girilen 3 harfli bir kelimenin harflerinin içinde ünlü harf olup olmadığını ve eğer ünlü harf var ise bunun kaçıncı harf olduğunu yazdırınız.**"
   ]
  },
  {
   "cell_type": "code",
   "execution_count": null,
   "id": "cf0e6ba5",
   "metadata": {},
   "outputs": [],
   "source": []
  },
  {
   "cell_type": "markdown",
   "id": "6be36aa0",
   "metadata": {},
   "source": [
    "**Task 2 :Kullanıcıdan binary bir numara girmesini isteyelim ve onu decimal sayıya \n",
    "convert edelim**\n",
    "\n",
    "**Örnek: Input= 1011001 Output = 89 olmalı**"
   ]
  },
  {
   "cell_type": "code",
   "execution_count": null,
   "id": "686d330a",
   "metadata": {},
   "outputs": [],
   "source": []
  },
  {
   "cell_type": "markdown",
   "id": "67d01305",
   "metadata": {},
   "source": [
    "**Task 3 : 1000 den küçük olan 3 ve 5 e bölünen tüm sayıların toplamını bulan program yazınız?**"
   ]
  },
  {
   "cell_type": "code",
   "execution_count": null,
   "id": "85f3b5a2",
   "metadata": {},
   "outputs": [],
   "source": []
  },
  {
   "cell_type": "markdown",
   "id": "614f833e",
   "metadata": {},
   "source": [
    "**Task 4 : Sort() metodunu kullanmadan; karışık sayıların olduğu bir listedeki elemanları, yine aynı liste içerisinde büyükten küçüğe sıralayan bir kod yazalım.**"
   ]
  },
  {
   "cell_type": "code",
   "execution_count": null,
   "id": "1a2af040",
   "metadata": {},
   "outputs": [],
   "source": []
  },
  {
   "cell_type": "markdown",
   "id": "df60dfe8",
   "metadata": {},
   "source": [
    "**Task 5 : Girilen sayıya kadar olan Fibonacci sayılarını bulan bir kod yazınız**"
   ]
  },
  {
   "cell_type": "code",
   "execution_count": null,
   "id": "eed4c937",
   "metadata": {},
   "outputs": [],
   "source": []
  },
  {
   "cell_type": "markdown",
   "id": "7ace470c",
   "metadata": {},
   "source": [
    "**Task 6 : Kullanıcı tarafından girilen bir sayının basamaklarının sayı adlarını görüntüleyen bir program yazın**\n",
    "\n",
    "**Örneğin sayı 231 ise çıktısı İki Üç Bir olmalıdır.**"
   ]
  },
  {
   "cell_type": "code",
   "execution_count": null,
   "id": "b369dda3",
   "metadata": {},
   "outputs": [],
   "source": []
  },
  {
   "cell_type": "markdown",
   "id": "93b802aa",
   "metadata": {},
   "source": [
    "**Task 7 :  İşverenimiz bizden, kullanıcı tarafından girilen bir metni şifreleyen bir program istedi. İstenen şartlar şunlar:**\n",
    "\n",
    "**Girilen Türkçe metinlerde her harf alfabetik sıraya göre kendisinden iki sonraki harfe dönüştürülecek. (Örneğin 'a' harfi 'c', 'z' harfi 'b' olacak)**\n",
    "\n",
    "**Girilen metinde harf dışında bir karakter varsa 'Lütfen Sadece Harflerden Oluşan Bir Metin Giriniz!' uyarısından sonra tekrar input istenecek.**\n",
    "\n",
    "**Büyük harfler büyük, küçük harfler küçük harf olarak dönüştürülecek.**\n",
    "\n",
    "**Boşluklar boşluk olarak korunacak.**"
   ]
  },
  {
   "cell_type": "code",
   "execution_count": null,
   "id": "4a992c4f",
   "metadata": {},
   "outputs": [],
   "source": []
  },
  {
   "cell_type": "markdown",
   "id": "5c43bfb6",
   "metadata": {},
   "source": [
    "**Task 8: Bir palindromik sayı sağdan ve soldan her iki şekilde de aynı okunur.** \n",
    "\n",
    "**İki basamaklı iki sayının çarpımından yapılan en büyük palindrom 9009 = 91 × 99'dur.** \n",
    "\n",
    "**İki 3 basamaklı sayının çarpımından yapılmış en büyük palindromu bulun. (edited)** "
   ]
  },
  {
   "cell_type": "code",
   "execution_count": null,
   "id": "c37681df",
   "metadata": {},
   "outputs": [],
   "source": []
  },
  {
   "cell_type": "markdown",
   "id": "f9544cdd",
   "metadata": {},
   "source": [
    "**Task 9 : Sayılar teorisinde, aritmetik sayı, pozitif bölenlerinin ortalaması da bir tam sayı olan bir tam sayıdır.**\n",
    "\n",
    "**Başka bir deyişle, bölenlerin sayısı bölenlerin toplamını bölüyorsa, n sayısı aritmetiktir.**\n",
    "\n",
    "**Pozitif bir n tamsayısı verildiğinde; n'nin Aritmetik sayı olup olmadığını kontrol eden bir program yazınız.**\n",
    "\n",
    "**Input : n = 6**\n",
    "**Output : Yes 6 is an arithmetic number.**\n",
    "\n",
    "**(Sum of divisor of 6 --> 1 + 2 + 3 + 6 = 12. Number of divisor of 6 is 4. 12/4 = 3. 3 is an integer, so 6 is an arithmetic number**\n"
   ]
  },
  {
   "cell_type": "code",
   "execution_count": null,
   "id": "5297ab8b",
   "metadata": {},
   "outputs": [],
   "source": []
  },
  {
   "cell_type": "markdown",
   "id": "68063356",
   "metadata": {},
   "source": [
    "**Task 10: Write a function for Sum of squares of first n natural numbers.**\n",
    "\n",
    "**Kullanıcıdan n sayısını alın ve n dahil n'e kadar olan tüm doğal sayıların karelerinin\n",
    "toplamını veren bir fonksiyon yazın**"
   ]
  },
  {
   "cell_type": "code",
   "execution_count": null,
   "id": "181a7aaa",
   "metadata": {},
   "outputs": [],
   "source": []
  },
  {
   "cell_type": "markdown",
   "id": "6f5e4655",
   "metadata": {},
   "source": [
    "**Task 11 : 100 tane kapı var. Bu kapılar 1'den 100'e kadar numaralandırılmış ve kapıların hepsi kilitli.**\n",
    "\n",
    "**Elimizde 1'den 20'ye kadar numaralandırılmış 20 tane anahtar var. Bir kapının numarası bir \n",
    "anahtarın numarasına tam bölünüyorsa o anahtar o kapıyı açabiliyor (ya da kilitleyebiliyor!)** \n",
    "\n",
    "**1 numaralı anahtardan başlayarak her anahtar için kapıları dolaşılıyor. Anahtar ile kapı açılıyor\n",
    "ya da kilitleniyor. Yani kapı açıksa kilitleniyor kapı kilitli ise kapı açılıyor.**\n",
    "\n",
    "**1 : 20. turdan sonra, yani son anahtarın kullanılmasından sonra açık olan kapıların numaralarını ekrana yazdırın**\n",
    "\n",
    "**2 : Hangi kapılar açık hangi kapılar kilitlidir?**"
   ]
  },
  {
   "cell_type": "code",
   "execution_count": null,
   "id": "6ec8d5d3",
   "metadata": {},
   "outputs": [],
   "source": []
  }
 ],
 "metadata": {
  "kernelspec": {
   "display_name": "Python 3 (ipykernel)",
   "language": "python",
   "name": "python3"
  },
  "language_info": {
   "codemirror_mode": {
    "name": "ipython",
    "version": 3
   },
   "file_extension": ".py",
   "mimetype": "text/x-python",
   "name": "python",
   "nbconvert_exporter": "python",
   "pygments_lexer": "ipython3",
   "version": "3.9.12"
  }
 },
 "nbformat": 4,
 "nbformat_minor": 5
}
